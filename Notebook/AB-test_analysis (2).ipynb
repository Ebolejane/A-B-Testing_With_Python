{
 "cells": [
  {
   "cell_type": "code",
   "execution_count": 1,
   "id": "04150264-de97-4859-af6b-345953348bd7",
   "metadata": {},
   "outputs": [],
   "source": [
    "import numpy as np\n",
    "import pandas as pd\n",
    "from scipy.stats import norm\n",
    "from scipy import stats\n",
    "import seaborn as sns\n",
    "import matplotlib.pyplot as plt"
   ]
  },
  {
   "cell_type": "code",
   "execution_count": 2,
   "id": "d7f1fbc7-0295-43af-b844-713aa036dd7e",
   "metadata": {},
   "outputs": [],
   "source": [
    "#load the data\n",
    "df = pd.read_csv(r'C:\\Users\\USER\\Desktop\\ab_test_data.xls')"
   ]
  },
  {
   "cell_type": "code",
   "execution_count": 3,
   "id": "98246bb2-8980-4492-b4cf-7b6bc342367d",
   "metadata": {},
   "outputs": [
    {
     "data": {
      "text/html": [
       "<div>\n",
       "<style scoped>\n",
       "    .dataframe tbody tr th:only-of-type {\n",
       "        vertical-align: middle;\n",
       "    }\n",
       "\n",
       "    .dataframe tbody tr th {\n",
       "        vertical-align: top;\n",
       "    }\n",
       "\n",
       "    .dataframe thead th {\n",
       "        text-align: right;\n",
       "    }\n",
       "</style>\n",
       "<table border=\"1\" class=\"dataframe\">\n",
       "  <thead>\n",
       "    <tr style=\"text-align: right;\">\n",
       "      <th></th>\n",
       "      <th>user_id</th>\n",
       "      <th>click</th>\n",
       "      <th>group</th>\n",
       "      <th>timestamp</th>\n",
       "    </tr>\n",
       "  </thead>\n",
       "  <tbody>\n",
       "    <tr>\n",
       "      <th>0</th>\n",
       "      <td>8afdde65-873f-4d53-9dd5-4a3608ed6b99</td>\n",
       "      <td>1</td>\n",
       "      <td>control</td>\n",
       "      <td>2024-11-29 23:59:53</td>\n",
       "    </tr>\n",
       "    <tr>\n",
       "      <th>1</th>\n",
       "      <td>aa134751-b8fe-435f-802a-fae26279625a</td>\n",
       "      <td>1</td>\n",
       "      <td>test</td>\n",
       "      <td>2024-07-20 11:55:07</td>\n",
       "    </tr>\n",
       "    <tr>\n",
       "      <th>2</th>\n",
       "      <td>18ed8e12-020c-49f7-baf8-2768e5c37d4f</td>\n",
       "      <td>0</td>\n",
       "      <td>control</td>\n",
       "      <td>2024-07-11 04:24:21</td>\n",
       "    </tr>\n",
       "    <tr>\n",
       "      <th>3</th>\n",
       "      <td>675be698-4195-47c2-8898-f38f3ff53fb9</td>\n",
       "      <td>1</td>\n",
       "      <td>test</td>\n",
       "      <td>2024-04-10 00:58:19</td>\n",
       "    </tr>\n",
       "    <tr>\n",
       "      <th>4</th>\n",
       "      <td>b9401e2b-067a-4546-9887-231f7504ffe4</td>\n",
       "      <td>0</td>\n",
       "      <td>control</td>\n",
       "      <td>2024-08-27 09:13:20</td>\n",
       "    </tr>\n",
       "  </tbody>\n",
       "</table>\n",
       "</div>"
      ],
      "text/plain": [
       "                                user_id  click    group            timestamp\n",
       "0  8afdde65-873f-4d53-9dd5-4a3608ed6b99      1  control  2024-11-29 23:59:53\n",
       "1  aa134751-b8fe-435f-802a-fae26279625a      1     test  2024-07-20 11:55:07\n",
       "2  18ed8e12-020c-49f7-baf8-2768e5c37d4f      0  control  2024-07-11 04:24:21\n",
       "3  675be698-4195-47c2-8898-f38f3ff53fb9      1     test  2024-04-10 00:58:19\n",
       "4  b9401e2b-067a-4546-9887-231f7504ffe4      0  control  2024-08-27 09:13:20"
      ]
     },
     "execution_count": 3,
     "metadata": {},
     "output_type": "execute_result"
    }
   ],
   "source": [
    "df.head()"
   ]
  },
  {
   "cell_type": "code",
   "execution_count": 4,
   "id": "96fc7a39-8d85-48a4-8690-91ad16e19a5d",
   "metadata": {},
   "outputs": [
    {
     "data": {
      "text/html": [
       "<div>\n",
       "<style scoped>\n",
       "    .dataframe tbody tr th:only-of-type {\n",
       "        vertical-align: middle;\n",
       "    }\n",
       "\n",
       "    .dataframe tbody tr th {\n",
       "        vertical-align: top;\n",
       "    }\n",
       "\n",
       "    .dataframe thead th {\n",
       "        text-align: right;\n",
       "    }\n",
       "</style>\n",
       "<table border=\"1\" class=\"dataframe\">\n",
       "  <thead>\n",
       "    <tr style=\"text-align: right;\">\n",
       "      <th></th>\n",
       "      <th>click</th>\n",
       "    </tr>\n",
       "  </thead>\n",
       "  <tbody>\n",
       "    <tr>\n",
       "      <th>count</th>\n",
       "      <td>10000.000000</td>\n",
       "    </tr>\n",
       "    <tr>\n",
       "      <th>mean</th>\n",
       "      <td>0.486300</td>\n",
       "    </tr>\n",
       "    <tr>\n",
       "      <th>std</th>\n",
       "      <td>0.499837</td>\n",
       "    </tr>\n",
       "    <tr>\n",
       "      <th>min</th>\n",
       "      <td>0.000000</td>\n",
       "    </tr>\n",
       "    <tr>\n",
       "      <th>25%</th>\n",
       "      <td>0.000000</td>\n",
       "    </tr>\n",
       "    <tr>\n",
       "      <th>50%</th>\n",
       "      <td>0.000000</td>\n",
       "    </tr>\n",
       "    <tr>\n",
       "      <th>75%</th>\n",
       "      <td>1.000000</td>\n",
       "    </tr>\n",
       "    <tr>\n",
       "      <th>max</th>\n",
       "      <td>1.000000</td>\n",
       "    </tr>\n",
       "  </tbody>\n",
       "</table>\n",
       "</div>"
      ],
      "text/plain": [
       "              click\n",
       "count  10000.000000\n",
       "mean       0.486300\n",
       "std        0.499837\n",
       "min        0.000000\n",
       "25%        0.000000\n",
       "50%        0.000000\n",
       "75%        1.000000\n",
       "max        1.000000"
      ]
     },
     "execution_count": 4,
     "metadata": {},
     "output_type": "execute_result"
    }
   ],
   "source": [
    "df.describe()"
   ]
  },
  {
   "cell_type": "code",
   "execution_count": 5,
   "id": "9159b88a-b407-46c0-94eb-4df84f5490b7",
   "metadata": {},
   "outputs": [
    {
     "data": {
      "text/html": [
       "<div>\n",
       "<style scoped>\n",
       "    .dataframe tbody tr th:only-of-type {\n",
       "        vertical-align: middle;\n",
       "    }\n",
       "\n",
       "    .dataframe tbody tr th {\n",
       "        vertical-align: top;\n",
       "    }\n",
       "\n",
       "    .dataframe thead th {\n",
       "        text-align: right;\n",
       "    }\n",
       "</style>\n",
       "<table border=\"1\" class=\"dataframe\">\n",
       "  <thead>\n",
       "    <tr style=\"text-align: right;\">\n",
       "      <th></th>\n",
       "      <th>click</th>\n",
       "    </tr>\n",
       "    <tr>\n",
       "      <th>group</th>\n",
       "      <th></th>\n",
       "    </tr>\n",
       "  </thead>\n",
       "  <tbody>\n",
       "    <tr>\n",
       "      <th>control</th>\n",
       "      <td>2399</td>\n",
       "    </tr>\n",
       "    <tr>\n",
       "      <th>test</th>\n",
       "      <td>2464</td>\n",
       "    </tr>\n",
       "  </tbody>\n",
       "</table>\n",
       "</div>"
      ],
      "text/plain": [
       "         click\n",
       "group         \n",
       "control   2399\n",
       "test      2464"
      ]
     },
     "execution_count": 5,
     "metadata": {},
     "output_type": "execute_result"
    }
   ],
   "source": [
    "df.groupby(\"group\").sum(\"click\")"
   ]
  },
  {
   "cell_type": "code",
   "execution_count": 6,
   "id": "10989bb4-b2f2-48a6-848a-c75cc3a57e90",
   "metadata": {},
   "outputs": [
    {
     "data": {
      "image/png": "[encoded data removed]",
      "text/plain": [
       "<Figure size 600x400 with 1 Axes>"
      ]
     },
     "metadata": {},
     "output_type": "display_data"
    }
   ],
   "source": [
    "#plotting the click distribution for each group\n",
    "\n",
    "plt.figure(figsize=(6,4))\n",
    "ax = sns.countplot(x='group', hue='click', data=df, palette=['blue', 'red'])\n",
    "plt.title(\"Click Distribution in test and control group\")\n",
    "plt.xlabel(\"Group\")\n",
    "plt.ylabel(\"Click\")\n",
    "plt.legend(title='Click Status')  \n",
    "\n",
    "\n",
    "# Calculate the percentage and annotation of the bar\n",
    "group_counts = df.groupby(['group']).size()\n",
    "group_click_count = df.groupby(['group', 'click']).size().reset_index(name='count')\n",
    "\n",
    "for p in ax.patches:\n",
    "    height = p.get_height()\n",
    "    # Find the group and click_type for current bar\n",
    "    group = 'test' if p.get_x() < 0.5 else 'control'\n",
    "    click = 1 if p.get_x() % 1 > 0.5 else 0\n",
    "    total = group_counts.loc[group]\n",
    "    percentage = 100 * height / total\n",
    "    ax.text(p.get_x() + p.get_width() / 2., height + 5, f'{percentage:.1f}%', ha=\"center\", color='black', fontsize=10)\n",
    "            \n",
    "\n",
    "# Show the plot\n",
    "plt.tight_layout()            \n",
    "plt.show()\n"
   ]
  },
  {
   "cell_type": "markdown",
   "id": "fdd25b2e-f9fc-467b-8c46-c0642d5c0219",
   "metadata": {},
   "source": [
    "## Parameter of the model from power analysis"
   ]
  },
  {
   "cell_type": "code",
   "execution_count": 7,
   "id": "a690efb7-2e00-4eda-9c29-11016ea92cc7",
   "metadata": {},
   "outputs": [
    {
     "name": "stdout",
     "output_type": "stream",
     "text": [
      "Alpha: significant level is: 0.05\n",
      "Delta: minimum detectable effect is: 0.01\n"
     ]
    }
   ],
   "source": [
    "alpha = 0.05 #probability of type I error\n",
    "print(\"Alpha: significant level is:\", alpha)\n",
    "\n",
    "delta = 0.01\n",
    "print(\"Delta: minimum detectable effect is:\", delta)"
   ]
  },
  {
   "cell_type": "code",
   "execution_count": 8,
   "id": "16fef364-1f3b-416f-a19b-b766924556da",
   "metadata": {},
   "outputs": [
    {
     "name": "stdout",
     "output_type": "stream",
     "text": [
      "Total number of users in control:  4992\n",
      "Total number of users in test:  5008\n"
     ]
    }
   ],
   "source": [
    "#number of users per group\n",
    "num_control = df[df['group'] == 'control']['click'].count()\n",
    "num_test = df[df['group'] == 'test']['click'].count()\n",
    "\n",
    "print(\"Total number of users in control: \", num_control)\n",
    "print(\"Total number of users in test: \", num_test)"
   ]
  },
  {
   "cell_type": "code",
   "execution_count": 9,
   "id": "3e3d3e41-fc6d-41e6-9b58-6dd97db5a316",
   "metadata": {},
   "outputs": [
    {
     "name": "stdout",
     "output_type": "stream",
     "text": [
      "group\n",
      "control    2399\n",
      "test       2464\n",
      "Name: click, dtype: int64\n",
      "Number of clicks in control:  2399\n",
      "Number of clicks in test:  2464\n"
     ]
    }
   ],
   "source": [
    "#calculate the number of clicks per group\n",
    "X_control = df[df['group'] == 'control']['click'].sum()\n",
    "X_test = df[df['group'] == 'test']['click'].sum()\n",
    "\n",
    "print(df.groupby(\"group\")[\"click\"].sum())\n",
    "print(\"Number of clicks in control: \", X_control)\n",
    "print(\"Number of clicks in test: \", X_test)"
   ]
  },
  {
   "cell_type": "markdown",
   "id": "a47e8d18-281f-447d-98a2-27c3c7f02895",
   "metadata": {},
   "source": [
    "## Calculate pooled Estimate for cick per group"
   ]
  },
  {
   "cell_type": "code",
   "execution_count": 10,
   "id": "0bc1d83b-6ad2-4a12-87f6-cae71036eac9",
   "metadata": {},
   "outputs": [
    {
     "name": "stdout",
     "output_type": "stream",
     "text": [
      "click probability in control group:  0.48056891025641024\n",
      "click probability in test group:  0.49201277955271566\n",
      "click probability:  0.4863\n"
     ]
    }
   ],
   "source": [
    "#estimate of click probability per group\n",
    "p_control = X_control/ num_control\n",
    "p_test = X_test / num_test\n",
    "print(\"click probability in control group: \", p_control)\n",
    "print(\"click probability in test group: \", p_test)\n",
    "\n",
    "#estimate of pooled click probability\n",
    "click_prob = (X_control + X_test)/ (num_control + num_test)\n",
    "print(\"click probability: \", click_prob)"
   ]
  },
  {
   "cell_type": "markdown",
   "id": "2d81da47-1bbe-4b40-ba2b-61b715a16ae9",
   "metadata": {},
   "source": [
    "## Calculate pooled Variance"
   ]
  },
  {
   "cell_type": "code",
   "execution_count": 11,
   "id": "b8c48892-69a9-477c-a6d5-b777c08f0a61",
   "metadata": {},
   "outputs": [
    {
     "name": "stdout",
     "output_type": "stream",
     "text": [
      "pooled Variance:  9.992517980846032e-05\n"
     ]
    }
   ],
   "source": [
    "#computing the estimate of the pooled variance\n",
    "pooled_var = click_prob * (1 - click_prob) * (1/num_control + 1/num_test)\n",
    "\n",
    "print(\"pooled Variance: \", pooled_var)\n"
   ]
  },
  {
   "cell_type": "markdown",
   "id": "c86f3656-2b94-470b-bbe5-41182319ee84",
   "metadata": {},
   "source": [
    "## Calculate the standard error and test statistics"
   ]
  },
  {
   "cell_type": "code",
   "execution_count": 12,
   "id": "7c3d37af-43b3-4eb9-af76-a81627d0bef6",
   "metadata": {},
   "outputs": [
    {
     "name": "stdout",
     "output_type": "stream",
     "text": [
      "Standard Error is:  0.00999625829040348\n",
      "Test Statitics for two sample z test:  -1.144815286264828\n",
      "Z critical value from Standard Normal Distribution:  1.959963984540054\n"
     ]
    }
   ],
   "source": [
    "#computing the standard error of the test\n",
    "SE = np.sqrt(pooled_var)\n",
    "print(\"Standard Error is: \", SE)\n",
    "\n",
    "#computing the test statistics of Z-test\n",
    "test_stat = (p_control - p_test)/ SE\n",
    "print(\"Test Statitics for two sample z test: \", test_stat)\n",
    "\n",
    "# critical value of z test\n",
    "Z_crit = norm.ppf(1-alpha/2)\n",
    "print(\"Z critical value from Standard Normal Distribution: \", Z_crit)"
   ]
  },
  {
   "cell_type": "markdown",
   "id": "be493f0f-c65e-46f0-bbdf-d3955f4592ec",
   "metadata": {},
   "source": [
    "## Calculate p-value of the Z-test"
   ]
  },
  {
   "cell_type": "markdown",
   "id": "84c10c8e-3400-490b-9e62-edd0f0dc07f3",
   "metadata": {},
   "source": [
    "a low p-value (p<=0.05 at a 5% significant level) indicates strong evidence against the null hypothesis, so we reject the null hypothesis\n",
    "\n",
    "A high p-value (p>0.05) indicates weak evidence against the hull hypothesis, so we fail to reject the null hypothesis"
   ]
  },
  {
   "cell_type": "code",
   "execution_count": 13,
   "id": "21f778de-78b6-4e05-84a9-f7a5f7d08ce0",
   "metadata": {},
   "outputs": [
    {
     "name": "stdout",
     "output_type": "stream",
     "text": [
      "p-value of 2-sample Z-test: 0.252\n",
      "There is no statistical significance, suggesting that the observed difference between the groups could have occurred due to random chance.\n"
     ]
    }
   ],
   "source": [
    "#calculate p value\n",
    "p_value = 2 * norm.sf(abs(test_stat))\n",
    "\n",
    "def statistical_significance(p_value: float, alpha: float) -> None:\n",
    "    \"\"\"\n",
    "    Determine the statistical significance of a 2-sample Z-test.\n",
    "    \n",
    "    Args:\n",
    "    p_value (float): The p-value.\n",
    "    alpha (float): The significance level.\n",
    "    \"\"\"\n",
    "    print(f\"p-value of 2-sample Z-test: {round(p_value, 3)}\")\n",
    "    \n",
    "    if p_value < alpha:\n",
    "        print(\"There is statistical significance, indicating that the observed difference between the groups are unlikely to have occurred due to chance.\")\n",
    "    else:\n",
    "        print(\"There is no statistical significance, suggesting that the observed difference between the groups could have occurred due to random chance.\")\n",
    "\n",
    "statistical_significance(p_value, alpha)"
   ]
  },
  {
   "cell_type": "code",
   "execution_count": 14,
   "id": "26103479-ea4f-4957-a354-17feb7bf8265",
   "metadata": {},
   "outputs": [
    {
     "data": {
      "text/plain": [
       "<function matplotlib.pyplot.show(close=None, block=None)>"
      ]
     },
     "execution_count": 14,
     "metadata": {},
     "output_type": "execute_result"
    },
    {
     "data": {
      "image/png": "[encoded data removed]",
      "text/plain": [
       "<Figure size 640x480 with 1 Axes>"
      ]
     },
     "metadata": {},
     "output_type": "display_data"
    }
   ],
   "source": [
    "#paremeter for standard normal distribution\n",
    "mu = 0 # mean\n",
    "sigma = 1 # standard deviation\n",
    "x = np.linspace(mu - 3*sigma, mu + 3*sigma, 100)\n",
    "y = norm.pdf(x, mu, sigma)\n",
    "\n",
    "# plot the normal distribution\n",
    "plt.plot(x, y, label=\"Normal Distribution\")\n",
    "# shade the rejected region for a 2-tailed test\n",
    "plt.fill_between(x, y, where=(x > Z_crit) | (x < -Z_crit), color=\"red\", alpha=0.05, label=\"Rejection Region\")\n",
    "#adding test statistic\n",
    "plt.axvline(test_stat, color=\"green\", linestyle=\"dashed\", linewidth=2, label=f'Test Statistic={test_stat:.2f}')                \n",
    "#adding z-critical value\n",
    "plt.axvline(Z_crit,  color=\"blue\", linestyle=\"dashed\", linewidth=1, label=f'Z-critical = {Z_crit:.2f}')\n",
    "plt.axvline(Z_crit,  color=\"blue\", linestyle=\"dashed\", linewidth=1)\n",
    "\n",
    "\n",
    "#Adding label and Title\n",
    "plt.xlabel=(\"Z-value\")\n",
    "plt.ylabel=(\"Probability Density\")\n",
    "plt.title=(\"Guassian distribution with rejected region\")\n",
    "plt.legend()\n",
    "plt.show\n",
    "                "
   ]
  },
  {
   "cell_type": "markdown",
   "id": "dcd21fae-6756-435e-b4d7-65a9b476c0c7",
   "metadata": {},
   "source": [
    "## Calculate confidence interval of the test"
   ]
  },
  {
   "cell_type": "code",
   "execution_count": 15,
   "id": "615d2015-d4e1-4534-96ed-f00820ba8822",
   "metadata": {},
   "outputs": [
    {
     "name": "stdout",
     "output_type": "stream",
     "text": [
      "confidence interval of 2 sample z-test is:  [-0.008, 0.031]\n"
     ]
    }
   ],
   "source": [
    "# Calculate confidence interval for a 2-sample test z-test\n",
    "# calculate the lower and upper bounder for the of the cofidence interval\n",
    "\n",
    "CI = [\n",
    "    round((p_test - p_control) - SE*Z_crit, 3),\n",
    "    round((p_test - p_control) + SE*Z_crit, 3)\n",
    "]\n",
    "\n",
    "# Print the calculated confidence interval\n",
    "print(\"confidence interval of 2 sample z-test is: \", CI)\n",
    "    "
   ]
  },
  {
   "cell_type": "code",
   "execution_count": 16,
   "id": "3074a7fa-5fd9-4062-8ab3-54474b2f00e7",
   "metadata": {},
   "outputs": [],
   "source": [
    "# A/A Test Validation (Ensuring no inherent bias before testing)\n",
    "a_a_p_value = stats.ttest_ind(df[df[\"group\"] == \"control\"][\"click\"], df[df[\"group\"] == \"test\"][\"click\"], equal_var=False).pvalue\n",
    "if a_a_p_value < 0.05:\n",
    "    print(\"Warning: A/A test shows significant difference! Check for bias in test assignment.\")"
   ]
  },
  {
   "cell_type": "markdown",
   "id": "da94520e-7102-411d-8158-50a687afb3f9",
   "metadata": {},
   "source": [
    "## Testing for practical significance of a/b testing"
   ]
  },
  {
   "cell_type": "code",
   "execution_count": 17,
   "id": "abc6eb31-2b42-404f-b8ca-ffb3c02e050b",
   "metadata": {},
   "outputs": [
    {
     "name": "stdout",
     "output_type": "stream",
     "text": [
      "We do not have a practical significance\n",
      "limit bound 95% confidence Interval is:  -0.008\n"
     ]
    }
   ],
   "source": [
    "def practical_significant(delta, CI):\n",
    "    \"\"\"\n",
    "    we assess if the difference between the control and test group is practically significant using the minimum detectable\n",
    "\n",
    "    Args:\n",
    "    delta (float): The MDE\n",
    "    CI_95 (tuple): lower bound and upper bound of the 95% confidential interval.\n",
    "\n",
    "    Return:\n",
    "    \n",
    "    \"\"\"\n",
    "    #Extract lower bounf of 95% interval\n",
    "    lower_bound_CI = CI[0]\n",
    "    # Check if lower bound is greater than or equal to delta\n",
    "    if lower_bound_CI >= delta:\n",
    "        print(\"we have practical significance\")\n",
    "        return True\n",
    "    else:\n",
    "        print(\"We do not have a practical significance\")\n",
    "        return False\n",
    "\n",
    "#calling the function\n",
    "significance = practical_significant(delta, CI)\n",
    "print(\"limit bound 95% confidence Interval is: \", CI[0])"
   ]
  }
 ],
 "metadata": {
  "kernelspec": {
   "display_name": "Python 3 (ipykernel)",
   "language": "python",
   "name": "python3"
  },
  "language_info": {
   "codemirror_mode": {
    "name": "ipython",
    "version": 3
   },
   "file_extension": ".py",
   "mimetype": "text/x-python",
   "name": "python",
   "nbconvert_exporter": "python",
   "pygments_lexer": "ipython3",
   "version": "3.12.7"
  }
 },
 "nbformat": 4,
 "nbformat_minor": 5
}
